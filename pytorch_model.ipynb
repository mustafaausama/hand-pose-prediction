{
 "cells": [
  {
   "cell_type": "code",
   "execution_count": 50,
   "metadata": {},
   "outputs": [],
   "source": [
    "import torch\n",
    "import torch.nn as nn\n",
    "import torch.nn.functional as F\n",
    "\n",
    "\n",
    "class Net(nn.Module):\n",
    "\n",
    "    def __init__(self):\n",
    "        super(Net, self).__init__()\n",
    "        # kernel\n",
    "        # (32-5/1)+1 = ouput of each filter\n",
    "        # output all filters = 28 x92 = 2576 \n",
    "        self.conv1 = nn.Conv3d(1,96,(5,5,5), padding=0)\n",
    "        self.pool  = nn.MaxPool3d(2, stride=2)\n",
    "        # you can use this formula [(W−K+2P)/S]+1.\n",
    "\n",
    "\n",
    "        self.conv2  =  nn.Conv3d(96,192,(3,3,3), padding=0)\n",
    "        self.pool1  =  nn.MaxPool3d(2, stride=2)\n",
    "        self.conv3  =  nn.Conv3d(192,384,(3,3,3), padding=0)\n",
    "        self.pool2  =  nn.MaxPool3d(2, stride=2)\n",
    "        self.ln1    =  nn.Linear(in_features=3072, out_features=4096)\n",
    "        self.drop1  =  nn.Dropout(p=0.5, inplace=False)\n",
    "        self.ln2    =  nn.Linear(in_features=4096, out_features=1024)\n",
    "        self.drop2  =  nn.Dropout(p=0.5, inplace=False)\n",
    "        self.out    =  nn.Linear(in_features=1024, out_features=63)\n",
    "        \n",
    "        \n",
    "        \n",
    "    \n",
    "    def forward(self, x):\n",
    "        #x = self.pool(F.relu(self.conv1(x)))\n",
    "        x = self.conv1(x)\n",
    "        x = F.relu(x)\n",
    "        x = self.pool(x)\n",
    "        x = self.conv2(x)\n",
    "        x = F.relu(x)\n",
    "        x = self.pool1(x)\n",
    "        x = self.conv3(x)\n",
    "        x = F.relu(x)\n",
    "        x = self.pool2(x)\n",
    "        x =  x.view(-1, 3072)\n",
    "        x = self.ln1(x)\n",
    "        x = F.relu(x)\n",
    "        x = self.drop1(x)\n",
    "        x = self.ln2(x)\n",
    "        x = F.relu(x)\n",
    "        x = self.drop2(x) \n",
    "        x = self.out\n",
    "        return x\n",
    "\n",
    "    def num_flat_features(self, x):\n",
    "        x = self.x\n",
    "        size = x.size()[1:]  # all dimensions except the batch dimension\n",
    "        num_features = 1\n",
    "        for s in size:\n",
    "            num_features *= s\n",
    "        return num_features    \n",
    "    \n",
    "#def conv3d_example_with5d_tensor():\n",
    "#    N,C,H,W,D = 2,1,3,7,7\n",
    "#    img = torch.randn(N,C,H,W,D)\n",
    "#    ##\n",
    "#    in_channels, out_channels = 1, 4\n",
    "#    kernel_size = (2,3,3)\n",
    "#    conv = torch.nn.Conv3d(in_channels, out_channels, kernel_size)\n",
    "#    ##\n",
    "#    out = conv(img)\n",
    "#    print(out)\n",
    "#   print(out.size())    \n",
    "    "
   ]
  },
  {
   "cell_type": "code",
   "execution_count": 52,
   "metadata": {},
   "outputs": [
    {
     "data": {
      "text/plain": [
       "Net(\n",
       "  (conv1): Conv3d(1, 96, kernel_size=(5, 5, 5), stride=(1, 1, 1))\n",
       "  (pool): MaxPool3d(kernel_size=2, stride=2, padding=0, dilation=1, ceil_mode=False)\n",
       "  (conv2): Conv3d(96, 192, kernel_size=(3, 3, 3), stride=(1, 1, 1))\n",
       "  (pool1): MaxPool3d(kernel_size=2, stride=2, padding=0, dilation=1, ceil_mode=False)\n",
       "  (conv3): Conv3d(192, 384, kernel_size=(3, 3, 3), stride=(1, 1, 1))\n",
       "  (pool2): MaxPool3d(kernel_size=2, stride=2, padding=0, dilation=1, ceil_mode=False)\n",
       "  (ln1): Linear(in_features=3072, out_features=4096, bias=True)\n",
       "  (drop1): Dropout(p=0.5, inplace=False)\n",
       "  (ln2): Linear(in_features=4096, out_features=1024, bias=True)\n",
       "  (drop2): Dropout(p=0.5, inplace=False)\n",
       "  (out): Linear(in_features=1024, out_features=63, bias=True)\n",
       ")"
      ]
     },
     "execution_count": 52,
     "metadata": {},
     "output_type": "execute_result"
    }
   ],
   "source": [
    "net = Net()\n",
    "#import numpy as np\n",
    "#x = torch.randn(1,1,32,32,32)\n",
    "#net(x)\n",
    "net"
   ]
  },
  {
   "cell_type": "code",
   "execution_count": 53,
   "metadata": {},
   "outputs": [
    {
     "data": {
      "text/plain": [
       "Linear(in_features=1024, out_features=63, bias=True)"
      ]
     },
     "execution_count": 53,
     "metadata": {},
     "output_type": "execute_result"
    }
   ],
   "source": [
    "import numpy as np\n",
    "x = torch.randn(1,1,32,32,32)\n",
    "net(x)"
   ]
  }
 ],
 "metadata": {
  "kernelspec": {
   "display_name": "Python 3",
   "language": "python",
   "name": "python3"
  },
  "language_info": {
   "codemirror_mode": {
    "name": "ipython",
    "version": 3
   },
   "file_extension": ".py",
   "mimetype": "text/x-python",
   "name": "python",
   "nbconvert_exporter": "python",
   "pygments_lexer": "ipython3",
   "version": "3.7.4"
  }
 },
 "nbformat": 4,
 "nbformat_minor": 2
}
