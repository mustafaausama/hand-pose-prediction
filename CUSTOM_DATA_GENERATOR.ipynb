{
 "cells": [
  {
   "cell_type": "code",
   "execution_count": null,
   "metadata": {},
   "outputs": [],
   "source": [
    "from skimage.io import imread\n",
    "\n",
    "\n",
    "\n",
    "def get_input(path):\n",
    "    img = imread(path)\n",
    "    \n",
    "    return(img)\n"
   ]
  },
  {
   "cell_type": "code",
   "execution_count": 16,
   "metadata": {},
   "outputs": [],
   "source": [
    "import numpy as np\n",
    "import pandas as pd\n",
    "\n",
    "\n",
    "def get_output(path,label_file=None):\n",
    "    \n",
    "    img_id=path.split('/')[-1].split('.')[0]\n",
    "    labels=label_file.loc[img_id].values\n",
    "    \n",
    "    return labels    \n"
   ]
  },
  {
   "cell_type": "code",
   "execution_count": null,
   "metadata": {},
   "outputs": [],
   "source": [
    "def preprocess_input(image):\n",
    "    \n",
    "    # do whatever here normalization i suggest crop the hand to the required area \n",
    "    \n",
    "    return(image)    "
   ]
  },
  {
   "cell_type": "code",
   "execution_count": null,
   "metadata": {},
   "outputs": [],
   "source": [
    "def image_generator(files, label_file, batch_size = 64):\n",
    "    \n",
    "    while True:\n",
    "          # Select files (paths/indices) for the batch\n",
    "                batch_paths  = np.random.choice(a = files, size = batch_size)\n",
    "                batch_input  = []\n",
    "                batch_output = [] \n",
    "          \n",
    "          # Read in each input, perform preprocessing and get labels\n",
    "        for input_path in batch_paths:\n",
    "                input = get_input(input_path )\n",
    "                output = get_output(input_path,label_file=label_file )\n",
    "            \n",
    "                input = preprocess_input(image=input)\n",
    "                batch_input +=  [ input ]\n",
    "                batch_output += [ output ]\n",
    "          # Return a tuple of (input, output) to feed the network\n",
    "        batch_x = np.array( batch_input )\n",
    "        batch_y = np.array( batch_output )\n",
    "        \n",
    "        yield( batch_x, batch_y )\n",
    "                    "
   ]
  }
 ],
 "metadata": {
  "kernelspec": {
   "display_name": "Python 3",
   "language": "python",
   "name": "python3"
  },
  "language_info": {
   "codemirror_mode": {
    "name": "ipython",
    "version": 3
   },
   "file_extension": ".py",
   "mimetype": "text/x-python",
   "name": "python",
   "nbconvert_exporter": "python",
   "pygments_lexer": "ipython3",
   "version": "3.7.4"
  }
 },
 "nbformat": 4,
 "nbformat_minor": 2
}
